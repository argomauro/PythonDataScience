{
 "cells": [
  {
   "cell_type": "markdown",
   "metadata": {},
   "source": [
    "# PCA per gente tosta\n",
    "In questo notebook implementeremo la **Principal Component Analysis (PCA)** utilizzando soltanto numpy."
   ]
  },
  {
   "cell_type": "markdown",
   "metadata": {},
   "source": [
    "## Cosa ti serve\n",
    "Carta, forbici colla vinilica... no scherzo.\n",
    "<br>\n",
    "Per comprendere appieno il funzionamento della PCA devi avere diverse nozioni di algebra lineare e statistica come sapere cosa sono autovalori e autovettori, come fattorizzare una matrice e sapere come si crea una matricesa delle varianze-covarianze."
   ]
  },
  {
   "cell_type": "markdown",
   "metadata": {},
   "source": [
    "## Cosa fa la PCA\n",
    "La PCA permette di eseguire una riduzione dimensionale identificando le direzioni di maggior varianza all'interno di un dataset, chiamate componenti principali (dall'inglese principal components).<br>\n",
    "La prima componente principale è la direzione di maggior varianza nei dati, quelle seguenti sono le direzioni di maggior varianza che sono ortogonali alla prima.\n",
    "<img src=\"res/pca.png\" width=\"500px\" />\n",
    "L'ortogonalità garantisce l'indipendenza delle componenti principali, cioè che ogni componente contenga informazioni differenti dalle altre."
   ]
  },
  {
   "cell_type": "markdown",
   "metadata": {},
   "source": [
    "## Implementare la PCA\n",
    "Il procedimento per eseguire la PCA al fine di comprimere uno spazio dimensionale da *d* dimensioni a *k* è il seguente:\n",
    "1. Eseguire la standardizzazione per portare i dati su di una scala comune.\n",
    "2. Costruire la matrice delle varianze-covarianze del dataset.\n",
    "3. Fattorizzare la matrice delle varianze-covarianze nei suoi autovalori e autovettori.\n",
    "4. Selezionare i k autovettori corrispondenti ai k autovettori maggiori.\n",
    "5. Costruire la matrice di proiezione utilizzando i k autovettori.\n",
    "6. Utilizzare la matrice di trasformazione per ridurre lo spazio dimensionale da *d* a *k*.\n",
    "\n",
    "Vediamo come implementare la PCA utilizzando solo Numpy.<br>\n",
    "Importiamo le librerie che ci serviranno, pandas e matplolib ci serviranno rispettivamente per caricare il dataset e visualizzare le componenti primarie."
   ]
  },
  {
   "cell_type": "code",
   "execution_count": 1,
   "metadata": {},
   "outputs": [],
   "source": [
    "import numpy as np\n",
    "import pandas as pd\n",
    "import matplotlib.pyplot as plt"
   ]
  },
  {
   "cell_type": "markdown",
   "metadata": {},
   "source": [
    "Il dataset che utilizzeremo è il Wine Dataset, un dataset di vini contenente 13 proprietà che permettono di suddivedere i vini in 3 differenti categorie. Importiamo utilizzando pandas."
   ]
  },
  {
   "cell_type": "code",
   "execution_count": 43,
   "metadata": {},
   "outputs": [],
   "source": [
    "cols = [\"label\",\"alcol\",\"acido malico\",\"cenere\",\"alcalinità della cenere\",\"magnesio\",\n",
    "        \"fenoli totali\",\"flavonoidi\",\"fenoli non-flavonoidi\",\"proantocianidine\", \n",
    "        \"intensità del colore\",\"tonalità\", \"OD280/OD315 dei vini diluiti\",\"prolina\"]\n",
    "\n",
    "wines = pd.read_csv(\"https://archive.ics.uci.edu/ml/machine-learning-databases/wine/wine.data\", \n",
    "                 names=cols)\n",
    "\n",
    "X = wines.drop(\"label\",axis=1).values\n",
    "y = wines[\"label\"].values"
   ]
  },
  {
   "cell_type": "markdown",
   "metadata": {},
   "source": [
    "Lo scopo della PCA sarà quello di ridurre lo spazio dimensionael da 13 a 2, quindi impostiamo il valore di k a 2."
   ]
  },
  {
   "cell_type": "code",
   "execution_count": 44,
   "metadata": {},
   "outputs": [],
   "source": [
    "k = 2"
   ]
  },
  {
   "cell_type": "markdown",
   "metadata": {},
   "source": [
    "### 1. Standardizzare il dataset\n",
    "Avere i dati sulla stessa scala è **fondamentale** per eseguire la PCA, se così non fosse identificare la direzione di maggiore varianza sarebbe impossibile.<br>\n",
    "Ti ricordo che la standardizzazione è definita come:\n",
    "<br><br>\n",
    "$$x^{i}_{std} = \\frac{x^i-x_{mean}}{x_{sd}}$$\n",
    "<br>\n",
    "dove $x$ è un vettore, $x_{mean}$ il suo valore medio e $x_{sd}$ la sua deviazione standard"
   ]
  },
  {
   "cell_type": "code",
   "execution_count": 45,
   "metadata": {},
   "outputs": [],
   "source": [
    "X = (X-X.mean(axis=0))/X.std(axis=0)"
   ]
  },
  {
   "cell_type": "markdown",
   "metadata": {},
   "source": [
    "### 2. Costruire la matrice delle varianze-covarianze\n",
    "La varianza di una variabile indica quanto i suoi valori sono diffusi, si calcola come:\n",
    "<br><br>\n",
    "$$ \\sigma(x)^2 = \\frac{1}{n}\\sum{n}_{i=1}(x_i - \\bar{x})^2 $$\n",
    "<br>\n",
    "La covarianza indica quanto due variabili variano insieme, cioè ci dice quanto queste sono correlate, si calcola come:\n",
    "<br><br>\n",
    "$$ \\sigma(x,y) = \\frac{1}{n-1}\\sum{n}_{i=1}(x_i - \\bar{x})(y_i-\\bar{y}) $$\n",
    "<br>"
   ]
  },
  {
   "cell_type": "markdown",
   "metadata": {},
   "source": [
    "La matrice delle varianze-covarianze contiene tutte le combinazioni di covarianza delle variabili in un dataset e sulle diagonali le varianze delle singole variabili (la varianza di una variabile è uguale alla sua covarianza con se stessa).\n",
    "<br><br>\n",
    "Per calcolare la matrice delle varianze-covarianze in python possiamo utilizzare la funzione <span style=\"font-family: Monaco\">cov</span> di numpy."
   ]
  },
  {
   "cell_type": "code",
   "execution_count": 46,
   "metadata": {},
   "outputs": [
    {
     "data": {
      "text/plain": [
       "(13, 13)"
      ]
     },
     "execution_count": 46,
     "metadata": {},
     "output_type": "execute_result"
    }
   ],
   "source": [
    "cov_mat = np.cov(X.T)\n",
    "cov_mat.shape"
   ]
  },
  {
   "cell_type": "markdown",
   "metadata": {},
   "source": [
    "Avendo 13 proprietà, il risultato sarà una matrice 13x13."
   ]
  },
  {
   "cell_type": "markdown",
   "metadata": {},
   "source": [
    "### 3. Decomposizione in autovalori e autovettori\n",
    "Gli autovalori e gli autovettori di una matrice sono tutte quelle coppie di valori e vettori che soddisfano la seguente equazione:\n",
    "<br><br>\n",
    "$$ A\\vec{v} = \\lambda \\vec{v}$$ \n",
    "<br>\n",
    "Dove $A$ è la matrice da fattorizzare, $\\vec{v}$ è l'autovettore e $\\lambda$ è l'autovalore, in sostanza l'autovettore di una matrice è quel vettore che trasformato dalla matrice varia solamente in magnitudine e l'autovalore è la magnitudine in questione.\n",
    "<br><br>\n",
    "Nel nostro caso, gli autovettori della matrice delle varianze-covarianze indicano le direzioni di maggior varianza, quindi le componenti principali, e gli autovalori le corrispondenti magnitudini.\n",
    "<br>\n",
    "Ne segue che l'autovettore corrispondente all'autovalore maggiore sarà la prima componente principale.\n",
    "<br><br>\n",
    "Il processo di estrazione di autovettori e autovalori di una matrice si chiama **eigendecomposition**, per eseguirla possiamo utilizzare la funzione <span style=\"font-family: Monaco\">eig</span>\n",
    " di numpy."
   ]
  },
  {
   "cell_type": "code",
   "execution_count": 47,
   "metadata": {},
   "outputs": [
    {
     "data": {
      "text/plain": [
       "array([4.73243698, 2.51108093, 1.45424187, 0.92416587, 0.85804868,\n",
       "       0.64528221, 0.55414147, 0.10396199, 0.35046627, 0.16972374,\n",
       "       0.29051203, 0.22706428, 0.25232001])"
      ]
     },
     "execution_count": 47,
     "metadata": {},
     "output_type": "execute_result"
    }
   ],
   "source": [
    "eig_vals, eig_vecs = np.linalg.eig(cov_mat)\n",
    "eig_vals"
   ]
  },
  {
   "cell_type": "markdown",
   "metadata": {},
   "source": [
    "Fai attenzione che gli autovettori sono ordinati sulle colonne e non sulle righe"
   ]
  },
  {
   "cell_type": "code",
   "execution_count": 48,
   "metadata": {},
   "outputs": [
    {
     "name": "stdout",
     "output_type": "stream",
     "text": [
      "Primo autovalore: 4.732437\n",
      "Primo autovettore: [-0.1443294   0.24518758  0.00205106  0.23932041 -0.14199204 -0.39466085\n",
      " -0.4229343   0.2985331  -0.31342949  0.0886167  -0.29671456 -0.37616741\n",
      " -0.28675223]\n"
     ]
    }
   ],
   "source": [
    "print(\"Primo autovalore: %f\" % eig_vals[0])\n",
    "print(\"Primo autovettore: %s\" % eig_vecs[:,0])"
   ]
  },
  {
   "cell_type": "markdown",
   "metadata": {},
   "source": [
    "### 4,5. Selezionare i k autovettori corrispondenti ai k autovettori maggiori e creare la matrice di proiezione"
   ]
  },
  {
   "cell_type": "markdown",
   "metadata": {},
   "source": [
    "Per selezionare i k autovettori corrispondenti ai k autovalori maggiori possiamo ottenere gli indici della lista ordinata degli autovalori e ordinare gli autovettori in base a questa. Sembra complicato, ma in realtà può essere fatto semplicemente utilizzando la funzione <span style=\"font-family: Monaco\">argsort</span> di numpy. <br>\n",
    "Questa funzione tornerà gli indici della lista ordinata dal valore minore a quello maggiore, ma a noi serve dal maggiore al minore, quindi dovremo invertirla e poi estrarre solo i primi k valori.\n",
    "<br><br>\n",
    "La matrice di proiezione 13x2 sarà semplicemente composta da questi autovettori, uno per ogni colonna."
   ]
  },
  {
   "cell_type": "code",
   "execution_count": 49,
   "metadata": {},
   "outputs": [
    {
     "name": "stdout",
     "output_type": "stream",
     "text": [
      "Matrice di trasformazione:\n",
      " [[-0.1443294   0.48365155]\n",
      " [ 0.24518758  0.22493093]\n",
      " [ 0.00205106  0.31606881]\n",
      " [ 0.23932041 -0.0105905 ]\n",
      " [-0.14199204  0.299634  ]\n",
      " [-0.39466085  0.06503951]\n",
      " [-0.4229343  -0.00335981]\n",
      " [ 0.2985331   0.02877949]\n",
      " [-0.31342949  0.03930172]\n",
      " [ 0.0886167   0.52999567]\n",
      " [-0.29671456 -0.27923515]\n",
      " [-0.37616741 -0.16449619]\n",
      " [-0.28675223  0.36490283]] \n"
     ]
    }
   ],
   "source": [
    "top_k_indices = np.argsort(eig_vals)[:-3:-1]\n",
    "W = eig_vecs[:,top_k_indices]\n",
    "print(\"Matrice di trasformazione:\\n %s \" % W)"
   ]
  },
  {
   "cell_type": "markdown",
   "metadata": {},
   "source": [
    "### 6. Utilizzare la matrice di trasformazione per ridurre lo spazio dimensionale\n",
    "Una trasformazione in uno spazio lineare si esegue semplicemente eseguendo il prodotto tra  lo spazio corrente e la matrice di trasformazione."
   ]
  },
  {
   "cell_type": "code",
   "execution_count": 50,
   "metadata": {},
   "outputs": [],
   "source": [
    "pc = np.dot(X,W)"
   ]
  },
  {
   "cell_type": "markdown",
   "metadata": {},
   "source": [
    "### Fatto! Visualizziamo il risultato\n",
    "Adesso <span style=\"font-family: Monaco\">pc</span> è una matrice che contiene il dataset proiettatò sulle prime 2 componenti principali, visualizziamo il risultato su di uno scatter plot utilizzando numpy."
   ]
  },
  {
   "cell_type": "code",
   "execution_count": 51,
   "metadata": {},
   "outputs": [
    {
     "data": {
      "text/plain": [
       "Text(0,0.5,'Seconda componente principale')"
      ]
     },
     "execution_count": 51,
     "metadata": {},
     "output_type": "execute_result"
    },
    {
     "data": {
      "image/png": "[encoded data removed]",
      "text/plain": [
       "<Figure size 432x288 with 1 Axes>"
      ]
     },
     "metadata": {},
     "output_type": "display_data"
    }
   ],
   "source": [
    "plt.scatter(pc[:,0],pc[:,1],c=y)\n",
    "plt.xlabel(\"Prima componente principale\")\n",
    "plt.ylabel(\"Seconda componente principale\")"
   ]
  },
  {
   "cell_type": "markdown",
   "metadata": {},
   "source": [
    "Come vedi, pur essendo passati da 13 a sole 2 proprietà, le classi all'interno del dataset sono ben visibili."
   ]
  },
  {
   "cell_type": "markdown",
   "metadata": {},
   "source": [
    "## Approfondimenti dell'approfondimento\n",
    " * [Corso su autovalori e autovettori](https://www.youtube.com/playlist?list=PLbv88mhMLJBV8ktO3hiV9lUOxLjrLbr5i)"
   ]
  }
 ],
 "metadata": {
  "kernelspec": {
   "display_name": "Python 3",
   "language": "python",
   "name": "python3"
  },
  "language_info": {
   "codemirror_mode": {
    "name": "ipython",
    "version": 3
   },
   "file_extension": ".py",
   "mimetype": "text/x-python",
   "name": "python",
   "nbconvert_exporter": "python",
   "pygments_lexer": "ipython3",
   "version": "3.6.4"
  }
 },
 "nbformat": 4,
 "nbformat_minor": 2
}
