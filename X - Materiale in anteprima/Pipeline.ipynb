{
 "cells": [
  {
   "cell_type": "markdown",
   "metadata": {},
   "source": [
    "# Creare una Pipeline con scikit-learn"
   ]
  },
  {
   "cell_type": "markdown",
   "metadata": {},
   "source": [
    "Il processo di creazione di un modello di machine learning è composto da due parti:\n",
    "* **Trasformatori**: in cui i dati vengono lavorati per poter essere serviti all'algoritmo di machine learning\n",
    "* **Classificatori/Regressori**: che si occupano di prendere i dati e usarli per creare il modello\n",
    "\n",
    "Finora abbiamo trattato le due cose in maniera separata, instanziando continuamente classi per le diverse trasformazioni da applicare ai dati, come one hot enconding, standardizzazione o normalizzazione, per poi creare il modello con una delle classi di scikit-learn, come la regressione logistica per un problema di classificazione o la regressione lineare per un problema di regressione.<br>\n",
    "Scikit-learn mette a disposizione la classe **Pipeline** che permette di raggruppare trasformatori e classificatori/regressori in modo che vengano applicati all'interno di un unico processo.<br>\n",
    "Vediamo insieme come utilizzarla con il boston housing dataset.\n",
    "<br><br>\n",
    "Importiamo le librerie necessarie."
   ]
  },
  {
   "cell_type": "code",
   "execution_count": 70,
   "metadata": {},
   "outputs": [],
   "source": [
    "import pandas as pd\n",
    "import numpy as np\n",
    "from sklearn.model_selection import train_test_split\n",
    "from sklearn.linear_model import LinearRegression\n",
    "from sklearn.metrics import mean_squared_error, r2_score\n",
    "from sklearn.preprocessing import OneHotEncoder, StandardScaler"
   ]
  },
  {
   "cell_type": "markdown",
   "metadata": {},
   "source": [
    "Carichiamo il boston housing dataset all'interno di un DataFrame."
   ]
  },
  {
   "cell_type": "code",
   "execution_count": 90,
   "metadata": {},
   "outputs": [
    {
     "data": {
      "text/html": [
       "<div>\n",
       "<style scoped>\n",
       "    .dataframe tbody tr th:only-of-type {\n",
       "        vertical-align: middle;\n",
       "    }\n",
       "\n",
       "    .dataframe tbody tr th {\n",
       "        vertical-align: top;\n",
       "    }\n",
       "\n",
       "    .dataframe thead th {\n",
       "        text-align: right;\n",
       "    }\n",
       "</style>\n",
       "<table border=\"1\" class=\"dataframe\">\n",
       "  <thead>\n",
       "    <tr style=\"text-align: right;\">\n",
       "      <th></th>\n",
       "      <th>CRIM</th>\n",
       "      <th>ZN</th>\n",
       "      <th>INDUS</th>\n",
       "      <th>CHAS</th>\n",
       "      <th>NOX</th>\n",
       "      <th>RM</th>\n",
       "      <th>AGE</th>\n",
       "      <th>DIS</th>\n",
       "      <th>RAD</th>\n",
       "      <th>TAX</th>\n",
       "      <th>PRATIO</th>\n",
       "      <th>B</th>\n",
       "      <th>LSTAT</th>\n",
       "      <th>MEDV</th>\n",
       "    </tr>\n",
       "  </thead>\n",
       "  <tbody>\n",
       "    <tr>\n",
       "      <th>0</th>\n",
       "      <td>0.00632</td>\n",
       "      <td>18.0</td>\n",
       "      <td>2.31</td>\n",
       "      <td>0</td>\n",
       "      <td>0.538</td>\n",
       "      <td>6.575</td>\n",
       "      <td>65.2</td>\n",
       "      <td>4.0900</td>\n",
       "      <td>1</td>\n",
       "      <td>296.0</td>\n",
       "      <td>15.3</td>\n",
       "      <td>396.90</td>\n",
       "      <td>4.98</td>\n",
       "      <td>24.0</td>\n",
       "    </tr>\n",
       "    <tr>\n",
       "      <th>1</th>\n",
       "      <td>0.02731</td>\n",
       "      <td>0.0</td>\n",
       "      <td>7.07</td>\n",
       "      <td>0</td>\n",
       "      <td>0.469</td>\n",
       "      <td>6.421</td>\n",
       "      <td>78.9</td>\n",
       "      <td>4.9671</td>\n",
       "      <td>2</td>\n",
       "      <td>242.0</td>\n",
       "      <td>17.8</td>\n",
       "      <td>396.90</td>\n",
       "      <td>9.14</td>\n",
       "      <td>21.6</td>\n",
       "    </tr>\n",
       "    <tr>\n",
       "      <th>2</th>\n",
       "      <td>0.02729</td>\n",
       "      <td>0.0</td>\n",
       "      <td>7.07</td>\n",
       "      <td>0</td>\n",
       "      <td>0.469</td>\n",
       "      <td>7.185</td>\n",
       "      <td>61.1</td>\n",
       "      <td>4.9671</td>\n",
       "      <td>2</td>\n",
       "      <td>242.0</td>\n",
       "      <td>17.8</td>\n",
       "      <td>392.83</td>\n",
       "      <td>4.03</td>\n",
       "      <td>34.7</td>\n",
       "    </tr>\n",
       "    <tr>\n",
       "      <th>3</th>\n",
       "      <td>0.03237</td>\n",
       "      <td>0.0</td>\n",
       "      <td>2.18</td>\n",
       "      <td>0</td>\n",
       "      <td>0.458</td>\n",
       "      <td>6.998</td>\n",
       "      <td>45.8</td>\n",
       "      <td>6.0622</td>\n",
       "      <td>3</td>\n",
       "      <td>222.0</td>\n",
       "      <td>18.7</td>\n",
       "      <td>394.63</td>\n",
       "      <td>2.94</td>\n",
       "      <td>33.4</td>\n",
       "    </tr>\n",
       "    <tr>\n",
       "      <th>4</th>\n",
       "      <td>0.06905</td>\n",
       "      <td>0.0</td>\n",
       "      <td>2.18</td>\n",
       "      <td>0</td>\n",
       "      <td>0.458</td>\n",
       "      <td>7.147</td>\n",
       "      <td>54.2</td>\n",
       "      <td>6.0622</td>\n",
       "      <td>3</td>\n",
       "      <td>222.0</td>\n",
       "      <td>18.7</td>\n",
       "      <td>396.90</td>\n",
       "      <td>5.33</td>\n",
       "      <td>36.2</td>\n",
       "    </tr>\n",
       "  </tbody>\n",
       "</table>\n",
       "</div>"
      ],
      "text/plain": [
       "      CRIM    ZN  INDUS  CHAS    NOX     RM   AGE     DIS  RAD    TAX  PRATIO  \\\n",
       "0  0.00632  18.0   2.31     0  0.538  6.575  65.2  4.0900    1  296.0    15.3   \n",
       "1  0.02731   0.0   7.07     0  0.469  6.421  78.9  4.9671    2  242.0    17.8   \n",
       "2  0.02729   0.0   7.07     0  0.469  7.185  61.1  4.9671    2  242.0    17.8   \n",
       "3  0.03237   0.0   2.18     0  0.458  6.998  45.8  6.0622    3  222.0    18.7   \n",
       "4  0.06905   0.0   2.18     0  0.458  7.147  54.2  6.0622    3  222.0    18.7   \n",
       "\n",
       "        B  LSTAT  MEDV  \n",
       "0  396.90   4.98  24.0  \n",
       "1  396.90   9.14  21.6  \n",
       "2  392.83   4.03  34.7  \n",
       "3  394.63   2.94  33.4  \n",
       "4  396.90   5.33  36.2  "
      ]
     },
     "execution_count": 90,
     "metadata": {},
     "output_type": "execute_result"
    }
   ],
   "source": [
    "features = [\"CRIM\",\"ZN\",\"INDUS\",\"CHAS\",\"NOX\",\"RM\",\"AGE\",\"DIS\",\"RAD\",\"TAX\",\"PRATIO\",\"B\",\"LSTAT\",\"MEDV\"]\n",
    "\n",
    "boston = pd.read_csv(\"https://archive.ics.uci.edu/ml/machine-learning-databases/housing/housing.data\", sep='\\s+', \n",
    "                     names=features)\n",
    "boston.head()"
   ]
  },
  {
   "cell_type": "markdown",
   "metadata": {},
   "source": [
    "# Il metodo classico: un processo per volta\n",
    "Creiamo il nostro modello con lo stesso procedimento che abbiamo utilizzato finora.<br><br>\n",
    "Partendo dal DataFrame creiamo il set di addestramento e test."
   ]
  },
  {
   "cell_type": "code",
   "execution_count": 64,
   "metadata": {},
   "outputs": [],
   "source": [
    "X = boston.drop(\"MEDV\", axis=1).values\n",
    "Y = boston[\"MEDV\"].values\n",
    "X_train, X_test, Y_train, Y_test = train_test_split(X,Y, test_size=0.3, random_state=0)"
   ]
  },
  {
   "cell_type": "markdown",
   "metadata": {},
   "source": [
    "La proprietà **CHAS** è di tipo categorico, utilizziamo la classe OneHotEncoder per creare delle variabili dummy."
   ]
  },
  {
   "cell_type": "code",
   "execution_count": 73,
   "metadata": {},
   "outputs": [
    {
     "data": {
      "text/plain": [
       "array([  1.     ,   0.     ,   1.62864,   0.     ,  21.89   ,   0.624  ,\n",
       "         5.019  , 100.     ,   1.4394 ,   4.     , 437.     ,  21.2    ,\n",
       "       396.9    ,  34.41   ])"
      ]
     },
     "execution_count": 73,
     "metadata": {},
     "output_type": "execute_result"
    }
   ],
   "source": [
    "onehot = OneHotEncoder(categorical_features=[3], sparse=False)\n",
    "X_train = onehot.fit_transform(X_train)\n",
    "X_test = onehot.transform(X_test)\n",
    "X_train[0]"
   ]
  },
  {
   "cell_type": "markdown",
   "metadata": {},
   "source": [
    "Standardizziamo i set di addestramento e test per avere i dati su una scala comune."
   ]
  },
  {
   "cell_type": "code",
   "execution_count": 66,
   "metadata": {},
   "outputs": [
    {
     "data": {
      "text/plain": [
       "array([ 0.26360274, -0.26360274, -0.20735619, -0.49997924,  1.54801583,\n",
       "        0.58821309, -1.83936729,  1.10740225, -1.1251102 , -0.61816013,\n",
       "        0.20673466,  1.2272573 ,  0.42454294,  3.10807269])"
      ]
     },
     "execution_count": 66,
     "metadata": {},
     "output_type": "execute_result"
    }
   ],
   "source": [
    "ss = StandardScaler()\n",
    "X_train = ss.fit_transform(X_train)\n",
    "X_test = ss.transform(X_test)\n",
    "X_train[0]"
   ]
  },
  {
   "cell_type": "markdown",
   "metadata": {},
   "source": [
    "Adesso che il dataset è pronto creiamo il modello di regressione lineare utilizzando la classe Linear Regression e calcoliamo l'errroe quandratico medio e il coefficente di indeterminazione."
   ]
  },
  {
   "cell_type": "code",
   "execution_count": 67,
   "metadata": {},
   "outputs": [
    {
     "name": "stdout",
     "output_type": "stream",
     "text": [
      "MSE: 27.1960\n",
      "R2 score: 0.6734 \n"
     ]
    }
   ],
   "source": [
    "ll = LinearRegression()\n",
    "ll.fit(X_train, Y_train)\n",
    "Y_pred = ll.predict(X_test)\n",
    "\n",
    "print(\"MSE: %.4f\" % (mean_squared_error(Y_test, Y_pred)))\n",
    "print(\"R2 score: %.4f \" % (r2_score(Y_test, Y_pred)))"
   ]
  },
  {
   "cell_type": "markdown",
   "metadata": {},
   "source": [
    "Dopo aver sudato un po' tra trasformazioni varie il nostro modello e pronto, se volessimo utilizzarlo per eseguire predizioni su dati nuovi dobbiamo applicare tutte le trasformazioni a questi dati, quindi: one hot enconding -> standardizzazione -> predizione.<br>\n",
    "Esiste un metodo più rapido, creare una pipeline."
   ]
  },
  {
   "cell_type": "markdown",
   "metadata": {},
   "source": [
    "# Il metodo rapido: creare una Pipeline\n",
    "Possiamo utilizzare una pipeline per applicare trasformazioni e eseguire predizioni o classificazioni con una singola chiamata di fit sulla pipeline.<br>\n",
    "Utilizziamo la classe **Pipeline** di scikit-learn per creare una pipeline che prende in ingresso i dati e applica in questo ordine: one hot enconding -> standardizzazione -> predizione."
   ]
  },
  {
   "cell_type": "code",
   "execution_count": 76,
   "metadata": {},
   "outputs": [
    {
     "name": "stdout",
     "output_type": "stream",
     "text": [
      "MSE: 27.1960\n",
      "R2 score: 0.6734 \n"
     ]
    }
   ],
   "source": [
    "X = boston.drop(\"MEDV\", axis=1).values\n",
    "Y = boston[\"MEDV\"].values\n",
    "\n",
    "X_train, X_test, Y_train, Y_test = train_test_split(X,Y, test_size=0.3, random_state=0)\n",
    "\n",
    "from sklearn.pipeline import Pipeline\n",
    "\n",
    "pipeline = Pipeline([\n",
    "    ('onehot',OneHotEncoder(categorical_features=[3],sparse=False)),\n",
    "    ('scaler',StandardScaler()),\n",
    "    ('regressor', LinearRegression())\n",
    "])\n",
    "\n",
    "pipeline.fit(X_train, Y_train) # addestriamo la pipeline\n",
    "\n",
    "Y_pred = pipeline.predict(X_test)\n",
    "\n",
    "print(\"MSE: %.4f\" % (mean_squared_error(Y_test, Y_pred)))\n",
    "print(\"R2 score: %.4f \" % (r2_score(Y_test, Y_pred)))"
   ]
  },
  {
   "cell_type": "markdown",
   "metadata": {},
   "source": [
    "**NOTA BENE**\n",
    "Bisogna chiamare fit anche con una pipeline per inizializzare i trasformatori al suo interno e addestrare il classificatore/regressore.<br><br>\n",
    "Se dobbiamo eseguire regressioni su dati nuovi non dobbiamo far altro che passarlo alla pipeline, questa si occuperà di eseguire le varie trasformazioni e la regressione, tornando il risultato."
   ]
  },
  {
   "cell_type": "code",
   "execution_count": 109,
   "metadata": {},
   "outputs": [
    {
     "name": "stdout",
     "output_type": "stream",
     "text": [
      "Proprietà dell'abitazione:\n",
      "['CRIM:0.07896', 'ZN:0.0', 'INDUS:12.83', 'CHAS:0.0', 'NOX:0.437', 'RM:6.273', 'AGE:6.0', 'DIS:4.2515', 'RAD:5.0', 'TAX:398.0', 'PRATIO:18.7', 'B:394.92', 'LSTAT:6.78']\n",
      "Valore dell'abitazione: $259129\n"
     ]
    }
   ],
   "source": [
    "new_sample = np.random.randint(X_test.shape[0],size=1)[0] #selezioniamo un esempio a caso dal test set...\n",
    "X_new = X_test[new_sample] #... e facciamo finta che sia un nuovo caso da predire\n",
    "\n",
    "Y_pred = pipeline.predict([X_new]) # la pipeline applica automaticamente ohe e standardizzazione\n",
    "\n",
    "print(\"Proprietà dell'abitazione:\")\n",
    "\n",
    "print([feat+\":\"+str(val) for val,feat in zip(X_new, features[:-1])])\n",
    "\n",
    "print(\"Valore dell'abitazione: $%4.f\" % (Y_pred*10000.))"
   ]
  }
 ],
 "metadata": {
  "kernelspec": {
   "display_name": "Python 3",
   "language": "python",
   "name": "python3"
  },
  "language_info": {
   "codemirror_mode": {
    "name": "ipython",
    "version": 3
   },
   "file_extension": ".py",
   "mimetype": "text/x-python",
   "name": "python",
   "nbconvert_exporter": "python",
   "pygments_lexer": "ipython3",
   "version": "3.6.4"
  }
 },
 "nbformat": 4,
 "nbformat_minor": 2
}
