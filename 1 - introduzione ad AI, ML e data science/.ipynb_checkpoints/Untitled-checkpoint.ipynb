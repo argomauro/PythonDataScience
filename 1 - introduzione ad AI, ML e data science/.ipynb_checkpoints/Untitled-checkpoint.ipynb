{
 "cells": [
  {
   "cell_type": "markdown",
   "metadata": {},
   "source": [
    "# Numpy Tutorial\n",
    "Numpy è una libreria Python sviluppata appositamente per il calcolo scientifico, permette di operare su vettori e matrici anche di grandi dimensioni, utilizzando funzioni scritte in linguaggio C e quindi molto veloci.<br>"
   ]
  },
  {
   "cell_type": "markdown",
   "metadata": {},
   "source": [
    "### Installazione\n",
    "La libreria Numpy è compresa in Anaconda.<br>\n",
    "Se non utilizzi anaconda puoi semplicemente installare Numpy con pip\n",
    "<br><br>\n",
    "<span style=\"font-family: Monaco\">pip install numpy</span>\n",
    "<br><br>\n",
    "Come ogni libreria Python, per utilizzare Numpy e necessario prima importarla"
   ]
  },
  {
   "cell_type": "code",
   "execution_count": 95,
   "metadata": {},
   "outputs": [],
   "source": [
    "import numpy as np"
   ]
  },
  {
   "cell_type": "markdown",
   "metadata": {},
   "source": [
    "## Vettori\n",
    "Il calcolo tra vettori e matrici ricopre un ruolo fondamentale non solo nel Machine Learning, ma in ogni branca dell'Intelligenza Artificiale e dell'Informatica in generale.\n",
    "Un vettore è un elemento che contiene un insieme ordinato di numeri disposti su una sola riga (vettore riga) o su una sola colonna.\n",
    "\n",
    "$$ \\textbf{v} = \\begin{bmatrix} 5 & 3 & 9 & 1 & 6 \\end{bmatrix} $$\n",
    "\n",
    "$$ \\textbf{v} = \\begin{bmatrix}\n",
    "    5 \\\\\n",
    "    3 \\\\\n",
    "    9 \\\\\n",
    "    1 \\\\\n",
    "    6\n",
    "\\end{bmatrix}\n",
    "$$\n",
    "Per creare un vettore numpy è sufficente passare una lista di numeri alla funzione <span style=\"font-family: Monaco\">array</span>\n"
   ]
  },
  {
   "cell_type": "code",
   "execution_count": 96,
   "metadata": {},
   "outputs": [
    {
     "data": {
      "text/plain": [
       "list"
      ]
     },
     "execution_count": 96,
     "metadata": {},
     "output_type": "execute_result"
    }
   ],
   "source": [
    "v = [10, 15, 20, 25, 30] # lista python\n",
    "type(v)"
   ]
  },
  {
   "cell_type": "code",
   "execution_count": 97,
   "metadata": {},
   "outputs": [
    {
     "data": {
      "text/plain": [
       "numpy.ndarray"
      ]
     },
     "execution_count": 97,
     "metadata": {},
     "output_type": "execute_result"
    }
   ],
   "source": [
    "v = np.array(v) # vettore numpy\n",
    "type(v)"
   ]
  },
  {
   "cell_type": "markdown",
   "metadata": {},
   "source": [
    "### Selezione degli elementi di un vettore\n",
    "E' possibile accedere ad un elemento di un vettore nello stesso modo in cui si accede all'elemento di una lista, cioè utilizzando il suo indice.\n",
    "<br>\n",
    "<br>**NOTA BENE**<br>\n",
    "Nella programmazione gli indici partono sempre dal valore 0, quindi l'elemento alla posizione 0 corrisponde al primo elemento del vettore, quello alla posizione 1 al secondo..."
   ]
  },
  {
   "cell_type": "code",
   "execution_count": 98,
   "metadata": {},
   "outputs": [
    {
     "name": "stdout",
     "output_type": "stream",
     "text": [
      "Primo elemento del vettore: 10 \n",
      "Secondo elemento del vettore: 15 \n",
      "Ultimo elemento del vettore: 30 \n",
      "Penultimo elemento del vettore: 25 \n",
      "Primi 3 elementi del vettore: [10 15 20]\n",
      "Ultimi 2 elementi del vettore: [25 30]\n",
      "Dal secondo al quarto elemento del vettore: [15 20 25]\n"
     ]
    }
   ],
   "source": [
    "print(\"Primo elemento del vettore: %d \" % (v[0]))\n",
    "print(\"Secondo elemento del vettore: %d \" % (v[1]))\n",
    "\n",
    "\"\"\"utilizzando indici negativi è possibile\n",
    "accedere al vettore a ritroso\"\"\"\n",
    "\n",
    "print(\"Ultimo elemento del vettore: %d \" % (v[-1]))\n",
    "print(\"Penultimo elemento del vettore: %d \" % (v[-2]))\n",
    "\n",
    "\"\"\"L'operatore ':' ci permette di eseguire lo slicing del vettore\n",
    "\n",
    "\"\"\"\n",
    "\n",
    "print(\"Primi 3 elementi del vettore: %s\" % (v[:3])) #stampa gli elementi alla posizione 0,1 e 2\n",
    "print(\"Ultimi 2 elementi del vettore: %s\" % (v[-2:])) #stampa gli elementi alla posizione 3 e 4\n",
    "print(\"Dal secondo al quarto elemento del vettore: %s\" % (v[1:4]))"
   ]
  },
  {
   "cell_type": "markdown",
   "metadata": {},
   "source": [
    "### Modifica di un elemento di un vettore\n",
    "Per modificare uno o più elementi di un vettore basta eseguire una semplice assegnazione"
   ]
  },
  {
   "cell_type": "code",
   "execution_count": 99,
   "metadata": {},
   "outputs": [
    {
     "name": "stdout",
     "output_type": "stream",
     "text": [
      "[ 4  5  3 10  7]\n"
     ]
    }
   ],
   "source": [
    "v = np.array([1, 2 , 3 ,4, 5]) # definisco un nuovo vettore\n",
    "v[0] = 10 # sostituisco il valore 1 con 10 come primo elemento del vettore\n",
    "v[1] = v[2]+v[3] # assegno la somma degli elementi alla posizione 3 e 4 del vettore all'emento in posizione 2 \n",
    "\n",
    "\"\"\"\n",
    "Adesso scambio gli elementi alle prime 2 posizioni\n",
    "con quelli alle ultime due, per farlo creo un vettore temporaneo\n",
    "\"\"\"\n",
    "\n",
    "tmp = np.array([])\n",
    "tmp = v[:2].copy() # utilizzo copy per eseguire un'assegnazione per valore e non per riferimento\n",
    "v[:2] = v[-2:]\n",
    "v[-2:] = tmp\n",
    "\n",
    "print(v)"
   ]
  },
  {
   "cell_type": "markdown",
   "metadata": {},
   "source": [
    "### Operazioni tra vettori"
   ]
  },
  {
   "cell_type": "code",
   "execution_count": 100,
   "metadata": {},
   "outputs": [
    {
     "name": "stdout",
     "output_type": "stream",
     "text": [
      "a + b = [15 30 45 60 75]\n",
      "a - b = [ 5 10 15 20 25]\n",
      "a * b = [  50  200  450  800 1250]\n"
     ]
    }
   ],
   "source": [
    "a = np.array([10, 20, 30, 40, 50])\n",
    "b = np.array([5, 10, 15, 20, 25])\n",
    "\n",
    "print(\"a + b = %s\" % (a+b)) # somma tra i vettori a e b\n",
    "print(\"a - b = %s\" % (a-b)) # differenza tra i vettori a e b\n",
    "print(\"a * b = %s\" % (a*b)) # prodotto elemento per elemento dei vettori a e b"
   ]
  },
  {
   "cell_type": "markdown",
   "metadata": {},
   "source": [
    "Perchè ho sottolineato che il prodotto è un prodotto \"elemento per elemento\" ? Perchè l'algebra lineare definisce anche un altro tipo di prodotto tra vettori, il prodotto scalare (in inglese: dot product), che da come risultato un singolo numero.\n",
    "Il prodotto scalare è definito come la somma del prodotto di ogni elemento del vettore a per il corrispondente elemento del vettore b.\n",
    "[FARE ESEMPIO IN LATEXT]"
   ]
  },
  {
   "cell_type": "code",
   "execution_count": 101,
   "metadata": {},
   "outputs": [
    {
     "data": {
      "text/plain": [
       "2750"
      ]
     },
     "execution_count": 101,
     "metadata": {},
     "output_type": "execute_result"
    }
   ],
   "source": [
    "np.dot(a,b) # prodotto scalare dei vettori a e b"
   ]
  },
  {
   "cell_type": "markdown",
   "metadata": {},
   "source": [
    "### Operazioni su un singolo vettore"
   ]
  },
  {
   "cell_type": "code",
   "execution_count": 92,
   "metadata": {},
   "outputs": [
    {
     "name": "stdout",
     "output_type": "stream",
     "text": [
      "[5 8 0 9 2]\n",
      "[5 8 0 2]\n",
      "[ 5  8 13  0  2]\n",
      "[13  0  5  8  2]\n"
     ]
    }
   ],
   "source": [
    "v = np.array([5, 8 , 0, 9, 2])\n",
    "print(v)\n",
    "v = np.delete(v,3) # rimuove l'elemento alla posizone 3\n",
    "print(v)\n",
    "v = np.insert(v, 2, 13) # inserisci il valore 13 alla posizione 2\n",
    "print(v)\n",
    "np.random.shuffle(v) #mescola gli elementi nel vettore\n",
    "print(v)"
   ]
  },
  {
   "cell_type": "markdown",
   "metadata": {},
   "source": [
    "#### Funzioni di base"
   ]
  },
  {
   "cell_type": "code",
   "execution_count": 94,
   "metadata": {},
   "outputs": [
    {
     "name": "stdout",
     "output_type": "stream",
     "text": [
      "Numero di elementi del vettore 5\n",
      "Elementi ordinati del vettore: [ 0  2  5  8 13]\n",
      "Somma di tutti gli elemento di v: 28\n"
     ]
    }
   ],
   "source": [
    "print(\"Numero di elementi del vettore %d\" % (len(v)))\n",
    "print(\"Elementi ordinati del vettore: %s\" % (np.sort(v)))\n",
    "print(\"Somma di tutti gli elemento di v: %d\" % (np.sum(v)))"
   ]
  },
  {
   "cell_type": "markdown",
   "metadata": {},
   "source": [
    "#### Funzioni statistiche"
   ]
  },
  {
   "cell_type": "code",
   "execution_count": 77,
   "metadata": {},
   "outputs": [
    {
     "name": "stdout",
     "output_type": "stream",
     "text": [
      "Il valore massimo del vettore è 13 e si trova alla posizione 2\n",
      "Il valore minimo del vettore è 0 e si trova alla posizione 3\n",
      "Valore medio del vettore: 5.6\n",
      "Mediana del vettore: 5\n",
      "Deviazione standard degli elementi del vettore: 4.59\n"
     ]
    }
   ],
   "source": [
    "print(\"Il valore massimo del vettore è %d e si trova alla posizione %d\" % (np.max(v), np.argmax(v)))\n",
    "print(\"Il valore minimo del vettore è %d e si trova alla posizione %d\" % (np.min(v), np.argmin(v)))\n",
    "print(\"Valore medio del vettore: %.1f\" % (np.mean(v))) # %.1f ci permette di stampare il valore con la virgola limitandolo a una sola cifra decimale\n",
    "print(\"Mediana del vettore: %d\" % (np.median(v)))\n",
    "print(\"Deviazione standard degli elementi del vettore: %.2f\" % (v.std()))"
   ]
  },
  {
   "cell_type": "markdown",
   "metadata": {},
   "source": [
    "#### Altre funzioni"
   ]
  },
  {
   "cell_type": "code",
   "execution_count": 63,
   "metadata": {},
   "outputs": [
    {
     "name": "stdout",
     "output_type": "stream",
     "text": [
      "Logaritmo naturale di tutti gli elementi di v: [1.60943791 2.07944154 2.56494936       -inf 0.69314718]\n",
      "Esponente di tutti gli elementi di v: [1.48413159e+02 2.98095799e+03 4.42413392e+05 1.00000000e+00\n",
      " 7.38905610e+00]\n",
      "Funzione seno di tutti gli elementi di v: [-0.95892427  0.98935825  0.42016704  0.          0.90929743]\n"
     ]
    },
    {
     "name": "stderr",
     "output_type": "stream",
     "text": [
      "/Users/giuseppe/anaconda3/lib/python3.6/site-packages/ipykernel_launcher.py:1: RuntimeWarning: divide by zero encountered in log\n",
      "  \"\"\"Entry point for launching an IPython kernel.\n"
     ]
    }
   ],
   "source": [
    "print(\"Logaritmo naturale di tutti gli elementi di v: %s\" % (np.log(v)))\n",
    "print(\"Esponente di tutti gli elementi di v: %s\" % (np.exp(v)))\n",
    "print(\"Funzione seno di tutti gli elementi di v: %s\" % (np.sin(v)))"
   ]
  }
 ],
 "metadata": {
  "kernelspec": {
   "display_name": "Python 3",
   "language": "python",
   "name": "python3"
  },
  "language_info": {
   "codemirror_mode": {
    "name": "ipython",
    "version": 3
   },
   "file_extension": ".py",
   "mimetype": "text/x-python",
   "name": "python",
   "nbconvert_exporter": "python",
   "pygments_lexer": "ipython3",
   "version": "3.6.4"
  }
 },
 "nbformat": 4,
 "nbformat_minor": 2
}
