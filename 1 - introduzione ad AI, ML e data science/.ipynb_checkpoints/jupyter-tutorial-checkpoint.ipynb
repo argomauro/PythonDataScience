{
 "cells": [
  {
   "cell_type": "markdown",
   "metadata": {},
   "source": [
    "# Introduzione a Jupyter Notebook\n",
    "***\n",
    "Jupyter Notebook è un'applicazione che permette di creare e condividere documenti, chiamati Notebook, che possono contenere al loro interno testo formattato, file multimediali, espressioni LATEX e codice eseguibile direttamente al suo interno"
   ]
  },
  {
   "cell_type": "markdown",
   "metadata": {},
   "source": [
    "### Installazione\n",
    "Jupyter Notebook viene installato automaticamente insieme ad [Anaconda], (https://anaconda.org/), un gestore di ambienti e pacchetti Python creato appositamente per chi lavora con i dati.<br>\n",
    "Se non utilizzi Anaconda puoi installare Jupyter Notebook singolarmente utilizzando pip:<br><br>\n",
    "<span style=\"font-family: Monaco\">python -m pip install jupyter</span>\n"
   ]
  },
  {
   "cell_type": "markdown",
   "metadata": {},
   "source": [
    "# 1. Markdown\n",
    "Markdown è un linguaggio di Markup utilizzato per scrivere testo formattato."
   ]
  },
  {
   "cell_type": "markdown",
   "metadata": {},
   "source": [
    "## 1.1 Stile"
   ]
  },
  {
   "cell_type": "markdown",
   "metadata": {},
   "source": [
    "# Questo è un titolo grande\n",
    "## Questo è un titolo medio\n",
    "### Questo è un titolo piccolo\n",
    "#### Questo è un titolo ancora più piccolo\n",
    "\n",
    "\n",
    "Questo è un semplice paragrafo.\n",
    "\n",
    "Questo è un paragrafo con un pò di enfasi sul testo, come il **grassetto** o il *corsivo* oppure un pò di colori, come <font color=\"blue\">blu</font>, <font color=\"red\">rosso</font>, <font color=\"green\">verde</font>, <font color=\"pink\">rosa</font> e <font color=\"yellow\">giallo</font>.\n",
    "\n",
    "Se vuoi forzare una nuova linea <br> fai così :)\n",
    "\n",
    "> Invece così puoi indentare il tuo testo"
   ]
  },
  {
   "cell_type": "markdown",
   "metadata": {},
   "source": [
    "## 1.2 Formattazione"
   ]
  },
  {
   "cell_type": "markdown",
   "metadata": {},
   "source": [
    "Se vuoi forzare una nuova linea <br> fai così :)\n",
    "\n",
    "> Invece così puoi indentare il tuo testo\n",
    "\n",
    "Vuoi creare una lista non numerata ? Fai così:\n",
    "* A\n",
    "* B\n",
    "    *  B1\n",
    "    *  B2\n",
    "    *  B3\n",
    "* C\n",
    "\n",
    "Mentre così puoi creare una lista numerata:\n",
    "1. A\n",
    "2. B\n",
    "    1. B1\n",
    "    2. B2\n",
    "    3. B3\n",
    "3. C"
   ]
  },
  {
   "cell_type": "markdown",
   "metadata": {},
   "source": [
    "## 1.3 Links\n",
    "\n",
    "Puoi creare due tipo di link:\n",
    "* Link a sezioni interne: [Vai al codice](#code) (per far questo devi aggiungere un ID alla sezione di arrivo)\n",
    "* Link esterni __[Visita il nostro sito](https://profession.ai) __"
   ]
  },
  {
   "cell_type": "markdown",
   "metadata": {},
   "source": [
    "## 1.4 Matematica"
   ]
  },
  {
   "cell_type": "markdown",
   "metadata": {},
   "source": [
    "### Per visualizzare operazioni matematiche fai così:\n",
    "$ 3*(3/2 + 4)^2 $\n",
    "\n",
    "Puoi scrivere espressioni in formato [LaTeX](https://it.wikipedia.org/wiki/LaTeX) in questo modo:\n",
    "$$c = \\sqrt{a^2 + b^2}$$\n",
    "\n",
    "Qui trovi un breve recap di tutti gli [operatori LaTeX](https://it.wikipedia.org/wiki/Aiuto:Formule_matematiche_TeX)"
   ]
  },
  {
   "cell_type": "markdown",
   "metadata": {},
   "source": [
    "## 1.5 Multimedia"
   ]
  },
  {
   "cell_type": "markdown",
   "metadata": {},
   "source": [
    "### 1.4.1 Immagini\n",
    "\n",
    "Puoi aggiungere un'immagine al tuo Notebook in questo modo\n",
    "![Logo python](res/python_logo.png)\n",
    "\n",
    "Oppure usando l'HTML:\n",
    "\n",
    "<img src=\"res/python_logo.png\" alt=\"logo di python\" title=\"Logo Python\" />\n",
    "\n",
    "Usando l'HTML puoi anche ridimensionare l'immagine\n",
    "\n",
    "<img src=\"res/python_logo.png\" width=\"50\" height=\"50\" alt=\"Logo Python\">"
   ]
  },
  {
   "cell_type": "markdown",
   "metadata": {
    "collapsed": true
   },
   "source": [
    "## 1.4.2 Video\n",
    "Puoi avviare un file video utilizzando il tag video, usa i parametri width e height per ridimensionare la finestra\n",
    "<br>\n",
    "<video width=\"320\" height=\"240\"controls src=\"media/jellyfish_video.mp4\" />"
   ]
  },
  {
   "cell_type": "markdown",
   "metadata": {
    "collapsed": true
   },
   "source": [
    "## 1.4.3 Audio\n",
    "\n",
    "Puoi avviare un file audio utilizzando il tag \"audio\"\n",
    "<br><br>\n",
    "<audio controls src=\"./water.mp3\" />"
   ]
  },
  {
   "cell_type": "markdown",
   "metadata": {},
   "source": [
    "** NOTA BENE **\n",
    "Le funzioni di visualizzazioni audio e video all'interno di celle di markdown sono ancora imperfette e danno alcuni problemi su diversi browser.\n",
    "Il mio consiglio è di utilizzare Python con la libreria HTML per questi scopi."
   ]
  },
  {
   "cell_type": "code",
   "execution_count": 1,
   "metadata": {},
   "outputs": [
    {
     "data": {
      "text/html": [
       "<iframe width=\"640\" height=\"480\" src=\"http://mirrors.standaloneinstaller.com/video-sample/jellyfish-25-mbps-hd-hevc.mp4\"></iframe>"
      ],
      "text/plain": [
       "<IPython.core.display.HTML object>"
      ]
     },
     "execution_count": 1,
     "metadata": {},
     "output_type": "execute_result"
    }
   ],
   "source": [
    "from IPython.display import HTML\n",
    "\n",
    "HTML('<iframe width=\"640\" height=\"480\" src=\"http://mirrors.standaloneinstaller.com/video-sample/jellyfish-25-mbps-hd-hevc.mp4\"></iframe>')"
   ]
  },
  {
   "cell_type": "markdown",
   "metadata": {},
   "source": [
    "Bene per concludere aggiungiamo una linea separatrice e passiamo alla prossima sezione\n",
    "***"
   ]
  },
  {
   "cell_type": "markdown",
   "metadata": {},
   "source": [
    "# 2. Codice\n",
    "<a id=\"code\"></a>"
   ]
  },
  {
   "cell_type": "markdown",
   "metadata": {},
   "source": [
    "## 2.1 Il kernel"
   ]
  },
  {
   "cell_type": "markdown",
   "metadata": {},
   "source": [
    "Puoi eseguire il tuo codice python all'interno di una cella di codice, le celle vengono eseguite in maniera sequenziale, le parentesi quadre sulla sinistra della cella ne rappresentano lo stato, se contengono un * vuol dire che la cella è in esecuzione, mentre se contengono un numero questo rappresenta l'ordine di esecuzione."
   ]
  },
  {
   "cell_type": "code",
   "execution_count": null,
   "metadata": {},
   "outputs": [
    {
     "name": "stdout",
     "output_type": "stream",
     "text": [
      "Ciao mondo\n"
     ]
    }
   ],
   "source": [
    "print(\"Ciao mondo\")"
   ]
  },
  {
   "cell_type": "markdown",
   "metadata": {},
   "source": [
    "Il kernel di Jupyter salva in memoria il codice che hai già eseguito"
   ]
  },
  {
   "cell_type": "code",
   "execution_count": 29,
   "metadata": {
    "collapsed": true
   },
   "outputs": [],
   "source": [
    "a = 5\n",
    "b = 3"
   ]
  },
  {
   "cell_type": "markdown",
   "metadata": {},
   "source": [
    "Quindi puoi chiamare variabili e funzioni definite all'interno di altre celle"
   ]
  },
  {
   "cell_type": "code",
   "execution_count": 30,
   "metadata": {},
   "outputs": [
    {
     "name": "stdout",
     "output_type": "stream",
     "text": [
      "2\n"
     ]
    }
   ],
   "source": [
    "c=a-b\n",
    "print(c)"
   ]
  },
  {
   "cell_type": "markdown",
   "metadata": {},
   "source": [
    "## 2.2 L'output"
   ]
  },
  {
   "cell_type": "markdown",
   "metadata": {},
   "source": [
    "L'output dell'ultima operazione viene sempre mostrato su schermo, anche se non utilizzi esplicitamente la funzione print"
   ]
  },
  {
   "cell_type": "code",
   "execution_count": 32,
   "metadata": {},
   "outputs": [
    {
     "data": {
      "text/plain": [
       "2"
      ]
     },
     "execution_count": 32,
     "metadata": {},
     "output_type": "execute_result"
    }
   ],
   "source": [
    "a-b"
   ]
  },
  {
   "cell_type": "markdown",
   "metadata": {},
   "source": [
    "Puoi visualizzare output molto lunghi come una lista, cliccando nel riquadro a sinistra dell'output."
   ]
  },
  {
   "cell_type": "code",
   "execution_count": 31,
   "metadata": {
    "collapsed": true
   },
   "outputs": [
    {
     "name": "stdout",
     "output_type": "stream",
     "text": [
      "0\n",
      "1\n",
      "2\n",
      "3\n",
      "4\n",
      "5\n",
      "6\n",
      "7\n",
      "8\n",
      "9\n",
      "10\n",
      "11\n",
      "12\n",
      "13\n",
      "14\n",
      "15\n",
      "16\n",
      "17\n",
      "18\n",
      "19\n",
      "20\n",
      "21\n",
      "22\n",
      "23\n",
      "24\n",
      "25\n",
      "26\n",
      "27\n",
      "28\n",
      "29\n"
     ]
    }
   ],
   "source": [
    "for i in range(0,30):\n",
    "    print(i)"
   ]
  },
  {
   "cell_type": "markdown",
   "metadata": {},
   "source": [
    "Per nascondere del tutto l'output puoi fare doppio click sullo stesso riquadro."
   ]
  },
  {
   "cell_type": "markdown",
   "metadata": {},
   "source": [
    "## 2.3 Funzioni di sistema"
   ]
  },
  {
   "cell_type": "markdown",
   "metadata": {},
   "source": [
    "Jupyter fornisce alcune funzioni utili per valutare il tuo codice, come il tempo di esecuzione"
   ]
  },
  {
   "cell_type": "code",
   "execution_count": 40,
   "metadata": {},
   "outputs": [
    {
     "name": "stdout",
     "output_type": "stream",
     "text": [
      "CPU times: user 410 ms, sys: 1.77 ms, total: 412 ms\n",
      "Wall time: 411 ms\n"
     ]
    }
   ],
   "source": [
    "%%time\n",
    "\n",
    "def fibonacci(n):\n",
    "    if n == 0: return 0\n",
    "    elif n == 1: return 1\n",
    "    else: return fibonacci(n-1)+fibonacci(n-2)\n",
    "\n",
    "\n",
    "fibonacci(30)"
   ]
  },
  {
   "cell_type": "markdown",
   "metadata": {},
   "source": [
    "Puoi eseguire comandi da riga di comando utilizzando l'operatore '!'"
   ]
  },
  {
   "cell_type": "code",
   "execution_count": 2,
   "metadata": {},
   "outputs": [
    {
     "name": "stdout",
     "output_type": "stream",
     "text": [
      "jupyter-tutorial.ipynb \u001b[34mres\u001b[m\u001b[m\r\n"
     ]
    }
   ],
   "source": [
    "#Questo comando ti mostra il contenuto della directory corrente\n",
    "!ls"
   ]
  },
  {
   "cell_type": "markdown",
   "metadata": {},
   "source": [
    "Puoi anche eseguire comandi bash più complessi in questo modo"
   ]
  },
  {
   "cell_type": "code",
   "execution_count": 4,
   "metadata": {},
   "outputs": [
    {
     "name": "stdout",
     "output_type": "stream",
     "text": [
      "giuseppe\n",
      "/Users/giuseppe/Desktop/ml00/1 - introduzione ad AI, ML e data science\n",
      "jupyter-tutorial.ipynb\n",
      "res\n"
     ]
    }
   ],
   "source": [
    "%%bash\n",
    "whoami\n",
    "pwd\n",
    "ls\n",
    "#Questa sequenza di comandi mostra il tuo nome utente, il percorso corrente ed il suo contenuto"
   ]
  },
  {
   "cell_type": "markdown",
   "metadata": {},
   "source": [
    "## 2.4 Plotting"
   ]
  },
  {
   "cell_type": "markdown",
   "metadata": {},
   "source": [
    "Utilizzando Jupyter insieme a matplotlib puoi stampare diversi tipi di grafici direttamente nell'output.<br>\n",
    "Per farlo esegui questo codice all'inizio del tuo notebook, o comunque prima di lavorare con matplotlib."
   ]
  },
  {
   "cell_type": "code",
   "execution_count": 49,
   "metadata": {
    "collapsed": true
   },
   "outputs": [],
   "source": [
    "%matplotlib inline"
   ]
  },
  {
   "cell_type": "markdown",
   "metadata": {},
   "source": [
    "Dopodichè puoi importare pyplot e costruire il tuo grafico"
   ]
  },
  {
   "cell_type": "code",
   "execution_count": 50,
   "metadata": {},
   "outputs": [
    {
     "data": {
      "text/plain": [
       "[<matplotlib.lines.Line2D at 0x115ca6828>]"
      ]
     },
     "execution_count": 50,
     "metadata": {},
     "output_type": "execute_result"
    },
    {
     "data": {
      "image/png": "[encoded data removed]",
      "text/plain": [
       "<matplotlib.figure.Figure at 0x10d5b7fd0>"
      ]
     },
     "metadata": {},
     "output_type": "display_data"
    }
   ],
   "source": [
    "import matplotlib.pyplot as plt\n",
    "\n",
    "data = [1,2,3,10,15,30,50,80]\n",
    "plt.plot(data)"
   ]
  },
  {
   "cell_type": "markdown",
   "metadata": {},
   "source": [
    "**NOTA BENE** Ricorda che il kernel di Jupyter salva in memoria l'esecuzione di un comando, quindi per ottimizzare il tuo codice importa tutte le librerie necessarie all'inizio del notebook in una cella apposita."
   ]
  }
 ],
 "metadata": {
  "kernelspec": {
   "display_name": "Python 3",
   "language": "python",
   "name": "python3"
  },
  "language_info": {
   "codemirror_mode": {
    "name": "ipython",
    "version": 3
   },
   "file_extension": ".py",
   "mimetype": "text/x-python",
   "name": "python",
   "nbconvert_exporter": "python",
   "pygments_lexer": "ipython3",
   "version": "3.6.4"
  }
 },
 "nbformat": 4,
 "nbformat_minor": 2
}
