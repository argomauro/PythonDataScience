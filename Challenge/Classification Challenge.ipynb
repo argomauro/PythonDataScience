{
 "cells": [
  {
   "cell_type": "markdown",
   "metadata": {},
   "source": [
    "# ProfessionAI Classification Challenge\n",
    "### Machine learning: il corso pratico\n",
    "Benvenuto! Questa è la competizione ufficiale del corso sul Machine Learning offerto da ProfessionAI, partecipa e prova ad aggiudicarti una delle magliette brandizzate di ProfessionAI.\n",
    "<img src=\"res/shirt.jpg\" width=\"300px\"/>"
   ]
  },
  {
   "cell_type": "markdown",
   "metadata": {},
   "source": [
    "## Il problema"
   ]
  },
  {
   "cell_type": "markdown",
   "metadata": {},
   "source": [
    "Quello che dovrai fare è utilizzarre il dataset che ti forniremo per riuscire a predirre se un individuo riceverà o meno un prestito dalla banca.<br>\n",
    "Per questione di privacy i nomi delle proprietà del dataset sono state rimosse."
   ]
  },
  {
   "cell_type": "markdown",
   "metadata": {},
   "source": [
    "## Il dataset\n",
    "Puoi scaricare il dataset per costruire il tuo modello [da qui](https://profession.ai/challenge/ml/train.csv).<br>\n",
    "Il dataset contiene **15 colonne**: 14 proprietà ed una variabile target, queste sono composte da tipi diversi di dati: varibili continue e categoriche.<br>\n",
    "Il target è l'ultima colonna, che contiene due tipi di valori:\n",
    " * **Carattere +** il prestito è stato concesso\n",
    " * **Carattere -** il prestito è stato respinto\n",
    "<br><br>\n",
    "Alcune colonne presentano dei dati mancanti, non sono rappresentati da un NaN ma da un altro placeholder, starà a te riuscire ad identificare qual è."
   ]
  },
  {
   "cell_type": "markdown",
   "metadata": {},
   "source": [
    "## Scadenza e premio\n",
    "Il termine massimo per la partecipazione al concorso è **Domenica 29 Luglio 2018**.<br>\n",
    " * Il primo classificato riceverà la maglietta brandizzata di ProfessionAI.\n",
    " * Tutti i partecipanti riceveranno l'accesso gratuito al corso su Udemy e la possibilità di partecipare gratuitamente all'anteprima del corso \"Deep Learning: il corso pratico\""
   ]
  },
  {
   "cell_type": "markdown",
   "metadata": {},
   "source": [
    "## Submission\n",
    "Per inviare i tuoi risultati esegui una predizione sul dataset di test che puoi scaricare [da qui](https://profession.ai/challenge/ml/test.csv) ed invia il tuo risultato all'indirizzo email [*challenge@profession.ai*](mailto:challenge@profession.ai) con oggetto \"Challenge corso ML\" e con allegato il file.<br>\n",
    "Puoi inviare i tuoi risultati un numero illimitato di volte, pubblicheremo la classifica aggiornata sul gruppo Facebook del corso e via email con cadenza settimanale.<br>\n",
    " * Il vincitore del concorso dovrà inviarci obbligatoriamente il notebook in cui ha eseguito la classificazione, in modo da verificarne la validità\n",
    " * tutti gli altri partecipanti potranno inviarci i propri notebook e ricevere dei feedback sul lavoro svolto\n",
    " \n",
    "La metrica utilizzata per calcolare la classifica è l'**Accuracy**\n",
    "#### ESEMPIO DI SUBMISSION FILE "
   ]
  },
  {
   "cell_type": "code",
   "execution_count": 1,
   "metadata": {},
   "outputs": [],
   "source": [
    "import numpy as np\n",
    "\n",
    "Y_pred = [0,1,1,1,0] #Sostiturire questo array con quello contenente le predizioni sul test set che ti abbiamo fornito noi\n",
    "\n",
    "np.savetxt(\"pred.csv\", Y_pred, delimiter=\"\\n\") #Inviare il file generato all'indirizzo challenge@profession.ai "
   ]
  }
 ],
 "metadata": {
  "kernelspec": {
   "display_name": "Python 3",
   "language": "python",
   "name": "python3"
  },
  "language_info": {
   "codemirror_mode": {
    "name": "ipython",
    "version": 3
   },
   "file_extension": ".py",
   "mimetype": "text/x-python",
   "name": "python",
   "nbconvert_exporter": "python",
   "pygments_lexer": "ipython3",
   "version": "3.6.4"
  }
 },
 "nbformat": 4,
 "nbformat_minor": 2
}
